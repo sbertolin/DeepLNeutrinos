{
 "cells": [
  {
   "cell_type": "code",
   "execution_count": 2,
   "metadata": {},
   "outputs": [],
   "source": [
    "f_test = open(\"D:\\Descargas\\i2ascii-files\\i2ascii-files\\MC_025800_anumu_CC_a_reco.i3.gz.txt\\MC_025800_anumu_CC_a_reco.i3.gz.txt\", \"r\")"
   ]
  },
  {
   "cell_type": "code",
   "execution_count": null,
   "metadata": {},
   "outputs": [],
   "source": [
    "from enum import Enum\n",
    "\n",
    "class STATE(Enum):\n",
    "    EVENT_ID = 1\n",
    "    RUN_INFO = 2\n",
    "    WEIGHTS = 3\n",
    "    NEUTRINO = 4\n",
    "    MUON = 5\n",
    "    AAFIT = 6\n",
    "    BBFIT_TRACK = 7\n",
    "    BBFIT_BRIGHT = 8\n",
    "    GRIDFIT = 9\n",
    "    HITS = 10\n",
    "    \n",
    "def event_id (line, event):\n",
    "    \n",
    "\n",
    "    \n",
    "state_dict = {\n",
    "    EVENT_ID: event_id,\n",
    "    RUN_INFO: run_info,\n",
    "    WEIGHTS: weights,\n",
    "    NEUTRINO: neutrino,\n",
    "    MUON: muon,\n",
    "    AAFIT: aafit,\n",
    "    BBFIT_TRACK: bbfit_track,\n",
    "    BBFIT_BRIGHT: bbfit_bright,\n",
    "    GRIDFIT: gridfit,\n",
    "    HITS: hits\n",
    "}"
   ]
  },
  {
   "cell_type": "code",
   "execution_count": 13,
   "metadata": {},
   "outputs": [
    {
     "name": "stdout",
     "output_type": "stream",
     "text": [
      "['1', '2', '3', '4', '5', '6', '7', '8', '9', '10', '11', '12', '13', '14', '15', '16', '17', '18', '19', '20', '21', '22', '23', '24', '25', '26', '27', '28', '29', '30', '31', '32', '33', '34', '35', '36', '37', '38', '39', '40', '41', '42', '43', '44', '45', '46', '47', '48', '49', '50', '51', '52', '53', '54', '55', '56', '57', '58', '59', '60', '61', '62', '63', '64', '65', '66', '67', '68', '69', '70', '71', '72', '73', '74', '75', '76', '77', '78', '79', '80', '81', '82', '83', '84', '85', '86', '87', '88', '89', '90', '91', '92', '93', '94', '95', '96', '97', '98', '99', '100', '101', '102', '103', '104', '105', '106', '107', '108', '109', '110', '111', '112', '113', '114', '115', '116', '117', '118', '119', '120', '121', '122', '123', '124', '125', '126', '127', '128', '129', '130', '131', '132', '133', '134', '135', '136', '137', '138', '139', '140', '141', '142', '143', '144', '145', '146', '147', '148', '149', '150', '151', '152', '153', '154', '155', '156', '157', '158', '159', '160', '161', '162', '163', '164', '165', '166', '167', '168', '169', '170', '171', '172', '173', '174', '175', '176', '177', '178', '179', '180', '181', '182', '183', '184', '185', '186', '187', '188', '189', '190', '191', '192', '193', '194', '195', '196', '197', '198', '199', '200', '201', '202', '203', '204', '205', '206', '207', '208', '209', '210', '211', '212', '213', '214', '215', '216', '217', '218', '219', '220', '221', '222', '223', '224', '225', '226', '227', '228', '229', '230', '231', '232', '233', '234', '235', '236', '237', '238', '239', '240', '241', '242', '243', '244', '245', '246', '247', '248', '249', '250', '251', '252', '253', '254', '255', '256']\n"
     ]
    }
   ],
   "source": [
    "with open(\"D:\\Descargas\\i2ascii-files\\i2ascii-files\\MC_025800_anumu_CC_a_reco.i3.gz.txt\\MC_025800_anumu_CC_a_reco.i3.gz.txt\", \"r\") as f_test:\n",
    "    line = f_test.readline()\n",
    "    file_dictionary = {}\n",
    "    current_state = STATE.EVENT_ID\n",
    "    in_event = False\n",
    "    while line:\n",
    "        if \"start_event\" in line:\n",
    "            event_id = line.split()[1]\n",
    "            in_event = True\n",
    "        elif in_event:\n",
    "            \n",
    "            \n",
    "            if \"end_event\" in line:\n",
    "                in_event = False\n",
    "                \n",
    "        line = f_test.readline()\n",
    "    \n",
    "print(array)"
   ]
  },
  {
   "cell_type": "code",
   "execution_count": null,
   "metadata": {},
   "outputs": [],
   "source": []
  }
 ],
 "metadata": {
  "kernelspec": {
   "display_name": "TensorFlow-GPU",
   "language": "python",
   "name": "tf-gpu"
  },
  "language_info": {
   "codemirror_mode": {
    "name": "ipython",
    "version": 3
   },
   "file_extension": ".py",
   "mimetype": "text/x-python",
   "name": "python",
   "nbconvert_exporter": "python",
   "pygments_lexer": "ipython3",
   "version": "3.7.3"
  }
 },
 "nbformat": 4,
 "nbformat_minor": 2
}
