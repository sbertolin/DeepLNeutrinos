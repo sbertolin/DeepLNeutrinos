{
 "cells": [
  {
   "cell_type": "code",
   "execution_count": 12,
   "metadata": {},
   "outputs": [],
   "source": [
    "from structured.DataRetriever import DataRetriever\n",
    "import numpy as np\n",
    "import pandas as pd\n",
    "\n",
    "dt = DataRetriever(\"D:/Descargas/i2ascii-files/i2ascii-files/\", 1000)\n",
    "#dt.set_target(['m_elev','m_az'])\n",
    "dt.set_target(['m_az'])\n",
    "target, data = dt.load_data(\n",
    "    get_sel_events = False,\n",
    "    filter_bbfit_null = False,\n",
    "    get_bbfit_data = True,\n",
    "    get_aafit_data = True\n",
    ")"
   ]
  },
  {
   "cell_type": "code",
   "execution_count": 2,
   "metadata": {},
   "outputs": [
    {
     "data": {
      "text/plain": [
       "Index(['aafit_az', 'aafit_beta', 'aafit_elev', 'aafit_lambda', 'bbfit_az',\n",
       "       'bbfit_chi2', 'bbfit_elev', 'det_type', 'trigger_counter', 'w_1', 'w_2',\n",
       "       'w_3'],\n",
       "      dtype='object')"
      ]
     },
     "execution_count": 2,
     "metadata": {},
     "output_type": "execute_result"
    }
   ],
   "source": [
    "data.columns"
   ]
  },
  {
   "cell_type": "code",
   "execution_count": 13,
   "metadata": {},
   "outputs": [
    {
     "name": "stderr",
     "output_type": "stream",
     "text": [
      "D:\\ProgramData\\Anaconda3\\lib\\site-packages\\sklearn\\preprocessing\\data.py:645: DataConversionWarning: Data with input dtype int64, float64 were all converted to float64 by StandardScaler.\n",
      "  return self.partial_fit(X, y)\n",
      "D:\\ProgramData\\Anaconda3\\lib\\site-packages\\sklearn\\base.py:464: DataConversionWarning: Data with input dtype int64, float64 were all converted to float64 by StandardScaler.\n",
      "  return self.fit(X, **fit_params).transform(X)\n"
     ]
    }
   ],
   "source": [
    "from sklearn.preprocessing import StandardScaler\n",
    "\n",
    "data_scaled = StandardScaler().fit_transform(data)"
   ]
  },
  {
   "cell_type": "code",
   "execution_count": 14,
   "metadata": {},
   "outputs": [],
   "source": [
    "from sklearn.model_selection import train_test_split\n",
    "\n",
    "X_train, X_test, y_train, y_test = train_test_split(data_scaled, target, test_size=0.33, random_state=100)"
   ]
  },
  {
   "cell_type": "code",
   "execution_count": 5,
   "metadata": {},
   "outputs": [
    {
     "name": "stdout",
     "output_type": "stream",
     "text": [
      "(9075, 12)\n",
      "(9075, 1)\n"
     ]
    }
   ],
   "source": [
    "print(X_train.shape)\n",
    "print(y_train.shape)"
   ]
  },
  {
   "cell_type": "code",
   "execution_count": 18,
   "metadata": {},
   "outputs": [
    {
     "name": "stdout",
     "output_type": "stream",
     "text": [
      "_________________________________________________________________\n",
      "Layer (type)                 Output Shape              Param #   \n",
      "=================================================================\n",
      "dense_13 (Dense)             (None, 256)               3328      \n",
      "_________________________________________________________________\n",
      "dense_14 (Dense)             (None, 128)               32896     \n",
      "_________________________________________________________________\n",
      "dense_15 (Dense)             (None, 64)                8256      \n",
      "_________________________________________________________________\n",
      "dense_16 (Dense)             (None, 32)                2080      \n",
      "_________________________________________________________________\n",
      "dense_17 (Dense)             (None, 1)                 33        \n",
      "=================================================================\n",
      "Total params: 46,593\n",
      "Trainable params: 46,593\n",
      "Non-trainable params: 0\n",
      "_________________________________________________________________\n"
     ]
    }
   ],
   "source": [
    "# definicion del modelo ANN\n",
    "from keras import models\n",
    "from keras import layers\n",
    "\n",
    "simple_test = models.Sequential()\n",
    "simple_test.add(layers.Dense(256,activation='relu',input_shape=(12,)))\n",
    "simple_test.add(layers.Dense(128,activation='relu'))\n",
    "simple_test.add(layers.Dense(64,activation='relu'))\n",
    "simple_test.add(layers.Dense(32,activation='relu'))\n",
    "simple_test.add(layers.Dense(1, activation='linear'))\n",
    "layers.BatchNormalization\n",
    "simple_test.summary()"
   ]
  },
  {
   "cell_type": "code",
   "execution_count": 21,
   "metadata": {},
   "outputs": [],
   "source": [
    "from keras import metrics\n",
    "# Se compila el modelo\n",
    "simple_test.compile(loss='mean_squared_error',\n",
    "              optimizer='sgd',\n",
    "              metrics=[metrics.mae])"
   ]
  },
  {
   "cell_type": "code",
   "execution_count": 22,
   "metadata": {},
   "outputs": [
    {
     "name": "stdout",
     "output_type": "stream",
     "text": [
      "Train on 267768 samples, validate on 131887 samples\n",
      "Epoch 1/300\n",
      "267768/267768 [==============================] - 12s 43us/step - loss: 0.7090 - mean_absolute_error: 0.3881 - val_loss: 0.7540 - val_mean_absolute_error: 0.4027\n",
      "Epoch 2/300\n",
      "267768/267768 [==============================] - 11s 40us/step - loss: 0.7082 - mean_absolute_error: 0.3876 - val_loss: 0.7510 - val_mean_absolute_error: 0.3910\n",
      "Epoch 3/300\n",
      "267768/267768 [==============================] - 11s 39us/step - loss: 0.7060 - mean_absolute_error: 0.3872 - val_loss: 0.7605 - val_mean_absolute_error: 0.4212\n",
      "Epoch 4/300\n",
      "267768/267768 [==============================] - 12s 43us/step - loss: 0.7061 - mean_absolute_error: 0.3870 - val_loss: 0.7532 - val_mean_absolute_error: 0.3939\n",
      "Epoch 5/300\n",
      "267768/267768 [==============================] - 11s 41us/step - loss: 0.7038 - mean_absolute_error: 0.3864 - val_loss: 0.7640 - val_mean_absolute_error: 0.3896\n",
      "Epoch 6/300\n",
      "267768/267768 [==============================] - 14s 52us/step - loss: 0.7032 - mean_absolute_error: 0.3859 - val_loss: 0.7568 - val_mean_absolute_error: 0.3929\n",
      "Epoch 7/300\n",
      "267768/267768 [==============================] - 12s 43us/step - loss: 0.7026 - mean_absolute_error: 0.3858 - val_loss: 0.7588 - val_mean_absolute_error: 0.3977\n",
      "Epoch 8/300\n",
      "267768/267768 [==============================] - 11s 43us/step - loss: 0.7017 - mean_absolute_error: 0.3861 - val_loss: 0.7522 - val_mean_absolute_error: 0.3906\n",
      "Epoch 9/300\n",
      "267768/267768 [==============================] - 12s 43us/step - loss: 0.7013 - mean_absolute_error: 0.3857 - val_loss: 0.7762 - val_mean_absolute_error: 0.4512\n",
      "Epoch 10/300\n",
      "267768/267768 [==============================] - 12s 46us/step - loss: 0.6993 - mean_absolute_error: 0.3849 - val_loss: 0.7575 - val_mean_absolute_error: 0.3867\n",
      "Epoch 11/300\n",
      "267768/267768 [==============================] - 14s 53us/step - loss: 0.6977 - mean_absolute_error: 0.3847 - val_loss: 0.7591 - val_mean_absolute_error: 0.3958\n",
      "Epoch 12/300\n",
      "267768/267768 [==============================] - 12s 45us/step - loss: 0.6981 - mean_absolute_error: 0.3848 - val_loss: 0.7652 - val_mean_absolute_error: 0.3980\n",
      "Epoch 13/300\n",
      "267768/267768 [==============================] - 12s 45us/step - loss: 0.6966 - mean_absolute_error: 0.3843 - val_loss: 0.7590 - val_mean_absolute_error: 0.3891\n",
      "Epoch 14/300\n",
      "267768/267768 [==============================] - 13s 47us/step - loss: 0.6950 - mean_absolute_error: 0.3842 - val_loss: 0.7571 - val_mean_absolute_error: 0.3920\n",
      "Epoch 15/300\n",
      "267768/267768 [==============================] - 11s 41us/step - loss: 0.6945 - mean_absolute_error: 0.3839 - val_loss: 0.7604 - val_mean_absolute_error: 0.3880\n",
      "Epoch 16/300\n",
      "267768/267768 [==============================] - 12s 45us/step - loss: 0.6940 - mean_absolute_error: 0.3833 - val_loss: 0.7771 - val_mean_absolute_error: 0.4492\n",
      "Epoch 17/300\n",
      "267768/267768 [==============================] - 11s 41us/step - loss: 0.6928 - mean_absolute_error: 0.3834 - val_loss: 0.7575 - val_mean_absolute_error: 0.4024\n",
      "Epoch 18/300\n",
      "267768/267768 [==============================] - 11s 40us/step - loss: 0.6907 - mean_absolute_error: 0.3834 - val_loss: 0.7634 - val_mean_absolute_error: 0.4031\n",
      "Epoch 19/300\n",
      "267768/267768 [==============================] - 11s 42us/step - loss: 0.6908 - mean_absolute_error: 0.3832 - val_loss: 0.7637 - val_mean_absolute_error: 0.4099\n",
      "Epoch 20/300\n",
      "267768/267768 [==============================] - 11s 41us/step - loss: 0.6901 - mean_absolute_error: 0.3829 - val_loss: 0.7674 - val_mean_absolute_error: 0.3892\n",
      "Epoch 21/300\n",
      "267768/267768 [==============================] - 11s 41us/step - loss: 0.6888 - mean_absolute_error: 0.3820 - val_loss: 0.7673 - val_mean_absolute_error: 0.3983\n",
      "Epoch 22/300\n",
      "267768/267768 [==============================] - 11s 40us/step - loss: 0.6887 - mean_absolute_error: 0.3825 - val_loss: 0.7637 - val_mean_absolute_error: 0.3843\n",
      "Epoch 23/300\n",
      "267768/267768 [==============================] - 11s 41us/step - loss: 0.6865 - mean_absolute_error: 0.3821 - val_loss: 0.7588 - val_mean_absolute_error: 0.3878\n",
      "Epoch 24/300\n",
      "267768/267768 [==============================] - 11s 41us/step - loss: 0.6852 - mean_absolute_error: 0.3813 - val_loss: 0.7647 - val_mean_absolute_error: 0.3961\n",
      "Epoch 25/300\n",
      "267768/267768 [==============================] - 11s 41us/step - loss: 0.6847 - mean_absolute_error: 0.3808 - val_loss: 0.7683 - val_mean_absolute_error: 0.4053\n",
      "Epoch 26/300\n",
      "267768/267768 [==============================] - 11s 41us/step - loss: 0.6847 - mean_absolute_error: 0.3813 - val_loss: 0.7612 - val_mean_absolute_error: 0.4007\n",
      "Epoch 27/300\n",
      "267768/267768 [==============================] - 11s 41us/step - loss: 0.6828 - mean_absolute_error: 0.3812 - val_loss: 0.7717 - val_mean_absolute_error: 0.3994\n",
      "Epoch 28/300\n",
      "267768/267768 [==============================] - 11s 40us/step - loss: 0.6821 - mean_absolute_error: 0.3806 - val_loss: 0.7723 - val_mean_absolute_error: 0.3954\n",
      "Epoch 29/300\n",
      "267768/267768 [==============================] - 11s 41us/step - loss: 0.6803 - mean_absolute_error: 0.3794 - val_loss: 0.7592 - val_mean_absolute_error: 0.3970\n",
      "Epoch 30/300\n",
      "267768/267768 [==============================] - 11s 42us/step - loss: 0.6791 - mean_absolute_error: 0.3795 - val_loss: 0.7685 - val_mean_absolute_error: 0.3920\n",
      "Epoch 31/300\n",
      "267768/267768 [==============================] - 11s 40us/step - loss: 0.6789 - mean_absolute_error: 0.3790 - val_loss: 0.7692 - val_mean_absolute_error: 0.4135\n",
      "Epoch 32/300\n",
      "267768/267768 [==============================] - 10s 39us/step - loss: 0.6779 - mean_absolute_error: 0.3797 - val_loss: 0.7797 - val_mean_absolute_error: 0.4053\n",
      "Epoch 33/300\n",
      "267768/267768 [==============================] - 12s 45us/step - loss: 0.6776 - mean_absolute_error: 0.3789 - val_loss: 0.7774 - val_mean_absolute_error: 0.3908\n",
      "Epoch 34/300\n",
      "267768/267768 [==============================] - 12s 44us/step - loss: 0.6749 - mean_absolute_error: 0.3782 - val_loss: 0.7654 - val_mean_absolute_error: 0.4093\n",
      "Epoch 35/300\n",
      "267768/267768 [==============================] - 11s 40us/step - loss: 0.6756 - mean_absolute_error: 0.3790 - val_loss: 0.7695 - val_mean_absolute_error: 0.4109\n",
      "Epoch 36/300\n",
      "267768/267768 [==============================] - 12s 43us/step - loss: 0.6741 - mean_absolute_error: 0.3781 - val_loss: 0.7664 - val_mean_absolute_error: 0.3919\n",
      "Epoch 37/300\n",
      "267768/267768 [==============================] - 11s 40us/step - loss: 0.6729 - mean_absolute_error: 0.3780 - val_loss: 0.7692 - val_mean_absolute_error: 0.3970\n",
      "Epoch 38/300\n",
      "267768/267768 [==============================] - 11s 40us/step - loss: 0.6713 - mean_absolute_error: 0.3774 - val_loss: 0.7816 - val_mean_absolute_error: 0.4240\n",
      "Epoch 39/300\n",
      "267768/267768 [==============================] - 11s 40us/step - loss: 0.6715 - mean_absolute_error: 0.3775 - val_loss: 0.7730 - val_mean_absolute_error: 0.4069\n",
      "Epoch 40/300\n",
      "267768/267768 [==============================] - 11s 39us/step - loss: 0.6707 - mean_absolute_error: 0.3775 - val_loss: 0.7734 - val_mean_absolute_error: 0.3917\n",
      "Epoch 41/300\n",
      "267768/267768 [==============================] - 10s 39us/step - loss: 0.6690 - mean_absolute_error: 0.3772 - val_loss: 0.7850 - val_mean_absolute_error: 0.4131\n",
      "Epoch 42/300\n",
      "267768/267768 [==============================] - 11s 40us/step - loss: 0.6681 - mean_absolute_error: 0.3767 - val_loss: 0.7613 - val_mean_absolute_error: 0.3881\n",
      "Epoch 43/300\n",
      "267768/267768 [==============================] - 11s 41us/step - loss: 0.6663 - mean_absolute_error: 0.3762 - val_loss: 0.8047 - val_mean_absolute_error: 0.4441\n",
      "Epoch 44/300\n",
      "267768/267768 [==============================] - 10s 39us/step - loss: 0.6666 - mean_absolute_error: 0.3761 - val_loss: 0.7986 - val_mean_absolute_error: 0.4459\n",
      "Epoch 45/300\n",
      "267768/267768 [==============================] - 11s 41us/step - loss: 0.6644 - mean_absolute_error: 0.3764 - val_loss: 0.7772 - val_mean_absolute_error: 0.4004\n",
      "Epoch 46/300\n",
      "267768/267768 [==============================] - 11s 40us/step - loss: 0.6646 - mean_absolute_error: 0.3759 - val_loss: 0.7821 - val_mean_absolute_error: 0.4002\n",
      "Epoch 47/300\n",
      "267768/267768 [==============================] - 10s 39us/step - loss: 0.6619 - mean_absolute_error: 0.3755 - val_loss: 0.7793 - val_mean_absolute_error: 0.3878\n"
     ]
    },
    {
     "name": "stdout",
     "output_type": "stream",
     "text": [
      "Epoch 48/300\n",
      "267768/267768 [==============================] - 10s 38us/step - loss: 0.6627 - mean_absolute_error: 0.3755 - val_loss: 0.7838 - val_mean_absolute_error: 0.3968\n",
      "Epoch 49/300\n",
      "267768/267768 [==============================] - 10s 38us/step - loss: 0.6604 - mean_absolute_error: 0.3750 - val_loss: 0.7725 - val_mean_absolute_error: 0.3945\n",
      "Epoch 50/300\n",
      "267768/267768 [==============================] - 10s 38us/step - loss: 0.6596 - mean_absolute_error: 0.3748 - val_loss: 0.7792 - val_mean_absolute_error: 0.3985\n",
      "Epoch 51/300\n",
      "267768/267768 [==============================] - 10s 39us/step - loss: 0.6573 - mean_absolute_error: 0.3743 - val_loss: 0.7796 - val_mean_absolute_error: 0.3953\n",
      "Epoch 52/300\n",
      "267768/267768 [==============================] - 10s 38us/step - loss: 0.6575 - mean_absolute_error: 0.3742 - val_loss: 0.7818 - val_mean_absolute_error: 0.3983\n",
      "Epoch 53/300\n",
      "267768/267768 [==============================] - 10s 38us/step - loss: 0.6579 - mean_absolute_error: 0.3747 - val_loss: 0.7798 - val_mean_absolute_error: 0.3880\n",
      "Epoch 54/300\n",
      "267768/267768 [==============================] - 10s 38us/step - loss: 0.6556 - mean_absolute_error: 0.3742 - val_loss: 0.7964 - val_mean_absolute_error: 0.4063\n",
      "Epoch 55/300\n",
      "267768/267768 [==============================] - 10s 38us/step - loss: 0.6542 - mean_absolute_error: 0.3737 - val_loss: 0.7807 - val_mean_absolute_error: 0.3929\n",
      "Epoch 56/300\n",
      "267768/267768 [==============================] - 10s 39us/step - loss: 0.6527 - mean_absolute_error: 0.3731 - val_loss: 0.7790 - val_mean_absolute_error: 0.3949\n",
      "Epoch 57/300\n",
      "267768/267768 [==============================] - 10s 39us/step - loss: 0.6519 - mean_absolute_error: 0.3732 - val_loss: 0.7775 - val_mean_absolute_error: 0.4002\n",
      "Epoch 58/300\n",
      "267768/267768 [==============================] - 10s 38us/step - loss: 0.6525 - mean_absolute_error: 0.3731 - val_loss: 0.7844 - val_mean_absolute_error: 0.3991\n",
      "Epoch 59/300\n",
      "267768/267768 [==============================] - 10s 38us/step - loss: 0.6499 - mean_absolute_error: 0.3718 - val_loss: 0.8206 - val_mean_absolute_error: 0.4122\n",
      "Epoch 60/300\n",
      "267768/267768 [==============================] - 10s 38us/step - loss: 0.6495 - mean_absolute_error: 0.3724 - val_loss: 0.7834 - val_mean_absolute_error: 0.4084\n",
      "Epoch 61/300\n",
      "267768/267768 [==============================] - 10s 39us/step - loss: 0.6472 - mean_absolute_error: 0.3718 - val_loss: 0.7818 - val_mean_absolute_error: 0.3947\n",
      "Epoch 62/300\n",
      "267768/267768 [==============================] - 10s 38us/step - loss: 0.6477 - mean_absolute_error: 0.3716 - val_loss: 0.7837 - val_mean_absolute_error: 0.3990\n",
      "Epoch 63/300\n",
      "267768/267768 [==============================] - 10s 38us/step - loss: 0.6468 - mean_absolute_error: 0.3722 - val_loss: 0.7830 - val_mean_absolute_error: 0.3955\n",
      "Epoch 64/300\n",
      "267768/267768 [==============================] - 10s 38us/step - loss: 0.6442 - mean_absolute_error: 0.3710 - val_loss: 0.7942 - val_mean_absolute_error: 0.4009\n",
      "Epoch 65/300\n",
      "267768/267768 [==============================] - 10s 39us/step - loss: 0.6434 - mean_absolute_error: 0.3713 - val_loss: 0.7872 - val_mean_absolute_error: 0.4003\n",
      "Epoch 66/300\n",
      "267768/267768 [==============================] - 10s 39us/step - loss: 0.6430 - mean_absolute_error: 0.3712 - val_loss: 0.7888 - val_mean_absolute_error: 0.3950\n",
      "Epoch 67/300\n",
      "267768/267768 [==============================] - 10s 39us/step - loss: 0.6401 - mean_absolute_error: 0.3704 - val_loss: 0.7920 - val_mean_absolute_error: 0.3990\n",
      "Epoch 68/300\n",
      "267768/267768 [==============================] - 10s 39us/step - loss: 0.6409 - mean_absolute_error: 0.3709 - val_loss: 0.7908 - val_mean_absolute_error: 0.3975\n",
      "Epoch 69/300\n",
      "267768/267768 [==============================] - 10s 38us/step - loss: 0.6393 - mean_absolute_error: 0.3703 - val_loss: 0.7943 - val_mean_absolute_error: 0.4067\n",
      "Epoch 70/300\n",
      "267768/267768 [==============================] - 12s 44us/step - loss: 0.6390 - mean_absolute_error: 0.3702 - val_loss: 0.7935 - val_mean_absolute_error: 0.3971\n",
      "Epoch 71/300\n",
      "267768/267768 [==============================] - 11s 43us/step - loss: 0.6372 - mean_absolute_error: 0.3700 - val_loss: 0.8108 - val_mean_absolute_error: 0.3937\n",
      "Epoch 72/300\n",
      "267768/267768 [==============================] - 11s 42us/step - loss: 0.6374 - mean_absolute_error: 0.3700 - val_loss: 0.7906 - val_mean_absolute_error: 0.3943\n",
      "Epoch 73/300\n",
      "267768/267768 [==============================] - 11s 41us/step - loss: 0.6349 - mean_absolute_error: 0.3696 - val_loss: 0.7966 - val_mean_absolute_error: 0.4055\n",
      "Epoch 74/300\n",
      "267768/267768 [==============================] - 11s 40us/step - loss: 0.6338 - mean_absolute_error: 0.3687 - val_loss: 0.7979 - val_mean_absolute_error: 0.4105\n",
      "Epoch 75/300\n",
      "267768/267768 [==============================] - 12s 43us/step - loss: 0.6330 - mean_absolute_error: 0.3691 - val_loss: 0.8035 - val_mean_absolute_error: 0.4120\n",
      "Epoch 76/300\n",
      "267768/267768 [==============================] - 11s 39us/step - loss: 0.6314 - mean_absolute_error: 0.3684 - val_loss: 0.8064 - val_mean_absolute_error: 0.4130\n",
      "Epoch 77/300\n",
      "204544/267768 [=====================>........] - ETA: 2s - loss: 0.6277 - mean_absolute_error: 0.3665"
     ]
    },
    {
     "ename": "KeyboardInterrupt",
     "evalue": "",
     "output_type": "error",
     "traceback": [
      "\u001b[1;31m---------------------------------------------------------------------------\u001b[0m",
      "\u001b[1;31mKeyboardInterrupt\u001b[0m                         Traceback (most recent call last)",
      "\u001b[1;32m<ipython-input-22-80ee8ea167c9>\u001b[0m in \u001b[0;36m<module>\u001b[1;34m\u001b[0m\n\u001b[1;32m----> 1\u001b[1;33m \u001b[0mhistory_simple_test\u001b[0m \u001b[1;33m=\u001b[0m \u001b[0msimple_test\u001b[0m\u001b[1;33m.\u001b[0m\u001b[0mfit\u001b[0m\u001b[1;33m(\u001b[0m\u001b[0mX_train\u001b[0m\u001b[1;33m,\u001b[0m\u001b[0my_train\u001b[0m\u001b[1;33m,\u001b[0m\u001b[0mepochs\u001b[0m\u001b[1;33m=\u001b[0m\u001b[1;36m300\u001b[0m\u001b[1;33m,\u001b[0m\u001b[0mbatch_size\u001b[0m\u001b[1;33m=\u001b[0m\u001b[1;36m64\u001b[0m\u001b[1;33m,\u001b[0m\u001b[0mvalidation_data\u001b[0m\u001b[1;33m=\u001b[0m\u001b[1;33m(\u001b[0m\u001b[0mX_test\u001b[0m\u001b[1;33m,\u001b[0m\u001b[0my_test\u001b[0m\u001b[1;33m)\u001b[0m\u001b[1;33m)\u001b[0m\u001b[1;33m\u001b[0m\u001b[1;33m\u001b[0m\u001b[0m\n\u001b[0m",
      "\u001b[1;32mD:\\ProgramData\\Anaconda3\\lib\\site-packages\\keras\\engine\\training.py\u001b[0m in \u001b[0;36mfit\u001b[1;34m(self, x, y, batch_size, epochs, verbose, callbacks, validation_split, validation_data, shuffle, class_weight, sample_weight, initial_epoch, steps_per_epoch, validation_steps, **kwargs)\u001b[0m\n\u001b[0;32m   1037\u001b[0m                                         \u001b[0minitial_epoch\u001b[0m\u001b[1;33m=\u001b[0m\u001b[0minitial_epoch\u001b[0m\u001b[1;33m,\u001b[0m\u001b[1;33m\u001b[0m\u001b[1;33m\u001b[0m\u001b[0m\n\u001b[0;32m   1038\u001b[0m                                         \u001b[0msteps_per_epoch\u001b[0m\u001b[1;33m=\u001b[0m\u001b[0msteps_per_epoch\u001b[0m\u001b[1;33m,\u001b[0m\u001b[1;33m\u001b[0m\u001b[1;33m\u001b[0m\u001b[0m\n\u001b[1;32m-> 1039\u001b[1;33m                                         validation_steps=validation_steps)\n\u001b[0m\u001b[0;32m   1040\u001b[0m \u001b[1;33m\u001b[0m\u001b[0m\n\u001b[0;32m   1041\u001b[0m     def evaluate(self, x=None, y=None,\n",
      "\u001b[1;32mD:\\ProgramData\\Anaconda3\\lib\\site-packages\\keras\\engine\\training_arrays.py\u001b[0m in \u001b[0;36mfit_loop\u001b[1;34m(model, f, ins, out_labels, batch_size, epochs, verbose, callbacks, val_f, val_ins, shuffle, callback_metrics, initial_epoch, steps_per_epoch, validation_steps)\u001b[0m\n\u001b[0;32m    197\u001b[0m                     \u001b[0mins_batch\u001b[0m\u001b[1;33m[\u001b[0m\u001b[0mi\u001b[0m\u001b[1;33m]\u001b[0m \u001b[1;33m=\u001b[0m \u001b[0mins_batch\u001b[0m\u001b[1;33m[\u001b[0m\u001b[0mi\u001b[0m\u001b[1;33m]\u001b[0m\u001b[1;33m.\u001b[0m\u001b[0mtoarray\u001b[0m\u001b[1;33m(\u001b[0m\u001b[1;33m)\u001b[0m\u001b[1;33m\u001b[0m\u001b[1;33m\u001b[0m\u001b[0m\n\u001b[0;32m    198\u001b[0m \u001b[1;33m\u001b[0m\u001b[0m\n\u001b[1;32m--> 199\u001b[1;33m                 \u001b[0mouts\u001b[0m \u001b[1;33m=\u001b[0m \u001b[0mf\u001b[0m\u001b[1;33m(\u001b[0m\u001b[0mins_batch\u001b[0m\u001b[1;33m)\u001b[0m\u001b[1;33m\u001b[0m\u001b[1;33m\u001b[0m\u001b[0m\n\u001b[0m\u001b[0;32m    200\u001b[0m                 \u001b[0mouts\u001b[0m \u001b[1;33m=\u001b[0m \u001b[0mto_list\u001b[0m\u001b[1;33m(\u001b[0m\u001b[0mouts\u001b[0m\u001b[1;33m)\u001b[0m\u001b[1;33m\u001b[0m\u001b[1;33m\u001b[0m\u001b[0m\n\u001b[0;32m    201\u001b[0m                 \u001b[1;32mfor\u001b[0m \u001b[0ml\u001b[0m\u001b[1;33m,\u001b[0m \u001b[0mo\u001b[0m \u001b[1;32min\u001b[0m \u001b[0mzip\u001b[0m\u001b[1;33m(\u001b[0m\u001b[0mout_labels\u001b[0m\u001b[1;33m,\u001b[0m \u001b[0mouts\u001b[0m\u001b[1;33m)\u001b[0m\u001b[1;33m:\u001b[0m\u001b[1;33m\u001b[0m\u001b[1;33m\u001b[0m\u001b[0m\n",
      "\u001b[1;32mD:\\ProgramData\\Anaconda3\\lib\\site-packages\\keras\\backend\\tensorflow_backend.py\u001b[0m in \u001b[0;36m__call__\u001b[1;34m(self, inputs)\u001b[0m\n\u001b[0;32m   2713\u001b[0m                 \u001b[1;32mreturn\u001b[0m \u001b[0mself\u001b[0m\u001b[1;33m.\u001b[0m\u001b[0m_legacy_call\u001b[0m\u001b[1;33m(\u001b[0m\u001b[0minputs\u001b[0m\u001b[1;33m)\u001b[0m\u001b[1;33m\u001b[0m\u001b[1;33m\u001b[0m\u001b[0m\n\u001b[0;32m   2714\u001b[0m \u001b[1;33m\u001b[0m\u001b[0m\n\u001b[1;32m-> 2715\u001b[1;33m             \u001b[1;32mreturn\u001b[0m \u001b[0mself\u001b[0m\u001b[1;33m.\u001b[0m\u001b[0m_call\u001b[0m\u001b[1;33m(\u001b[0m\u001b[0minputs\u001b[0m\u001b[1;33m)\u001b[0m\u001b[1;33m\u001b[0m\u001b[1;33m\u001b[0m\u001b[0m\n\u001b[0m\u001b[0;32m   2716\u001b[0m         \u001b[1;32melse\u001b[0m\u001b[1;33m:\u001b[0m\u001b[1;33m\u001b[0m\u001b[1;33m\u001b[0m\u001b[0m\n\u001b[0;32m   2717\u001b[0m             \u001b[1;32mif\u001b[0m \u001b[0mpy_any\u001b[0m\u001b[1;33m(\u001b[0m\u001b[0mis_tensor\u001b[0m\u001b[1;33m(\u001b[0m\u001b[0mx\u001b[0m\u001b[1;33m)\u001b[0m \u001b[1;32mfor\u001b[0m \u001b[0mx\u001b[0m \u001b[1;32min\u001b[0m \u001b[0minputs\u001b[0m\u001b[1;33m)\u001b[0m\u001b[1;33m:\u001b[0m\u001b[1;33m\u001b[0m\u001b[1;33m\u001b[0m\u001b[0m\n",
      "\u001b[1;32mD:\\ProgramData\\Anaconda3\\lib\\site-packages\\keras\\backend\\tensorflow_backend.py\u001b[0m in \u001b[0;36m_call\u001b[1;34m(self, inputs)\u001b[0m\n\u001b[0;32m   2673\u001b[0m             \u001b[0mfetched\u001b[0m \u001b[1;33m=\u001b[0m \u001b[0mself\u001b[0m\u001b[1;33m.\u001b[0m\u001b[0m_callable_fn\u001b[0m\u001b[1;33m(\u001b[0m\u001b[1;33m*\u001b[0m\u001b[0marray_vals\u001b[0m\u001b[1;33m,\u001b[0m \u001b[0mrun_metadata\u001b[0m\u001b[1;33m=\u001b[0m\u001b[0mself\u001b[0m\u001b[1;33m.\u001b[0m\u001b[0mrun_metadata\u001b[0m\u001b[1;33m)\u001b[0m\u001b[1;33m\u001b[0m\u001b[1;33m\u001b[0m\u001b[0m\n\u001b[0;32m   2674\u001b[0m         \u001b[1;32melse\u001b[0m\u001b[1;33m:\u001b[0m\u001b[1;33m\u001b[0m\u001b[1;33m\u001b[0m\u001b[0m\n\u001b[1;32m-> 2675\u001b[1;33m             \u001b[0mfetched\u001b[0m \u001b[1;33m=\u001b[0m \u001b[0mself\u001b[0m\u001b[1;33m.\u001b[0m\u001b[0m_callable_fn\u001b[0m\u001b[1;33m(\u001b[0m\u001b[1;33m*\u001b[0m\u001b[0marray_vals\u001b[0m\u001b[1;33m)\u001b[0m\u001b[1;33m\u001b[0m\u001b[1;33m\u001b[0m\u001b[0m\n\u001b[0m\u001b[0;32m   2676\u001b[0m         \u001b[1;32mreturn\u001b[0m \u001b[0mfetched\u001b[0m\u001b[1;33m[\u001b[0m\u001b[1;33m:\u001b[0m\u001b[0mlen\u001b[0m\u001b[1;33m(\u001b[0m\u001b[0mself\u001b[0m\u001b[1;33m.\u001b[0m\u001b[0moutputs\u001b[0m\u001b[1;33m)\u001b[0m\u001b[1;33m]\u001b[0m\u001b[1;33m\u001b[0m\u001b[1;33m\u001b[0m\u001b[0m\n\u001b[0;32m   2677\u001b[0m \u001b[1;33m\u001b[0m\u001b[0m\n",
      "\u001b[1;32mD:\\ProgramData\\Anaconda3\\lib\\site-packages\\tensorflow\\python\\client\\session.py\u001b[0m in \u001b[0;36m__call__\u001b[1;34m(self, *args, **kwargs)\u001b[0m\n\u001b[0;32m   1437\u001b[0m           ret = tf_session.TF_SessionRunCallable(\n\u001b[0;32m   1438\u001b[0m               \u001b[0mself\u001b[0m\u001b[1;33m.\u001b[0m\u001b[0m_session\u001b[0m\u001b[1;33m.\u001b[0m\u001b[0m_session\u001b[0m\u001b[1;33m,\u001b[0m \u001b[0mself\u001b[0m\u001b[1;33m.\u001b[0m\u001b[0m_handle\u001b[0m\u001b[1;33m,\u001b[0m \u001b[0margs\u001b[0m\u001b[1;33m,\u001b[0m \u001b[0mstatus\u001b[0m\u001b[1;33m,\u001b[0m\u001b[1;33m\u001b[0m\u001b[1;33m\u001b[0m\u001b[0m\n\u001b[1;32m-> 1439\u001b[1;33m               run_metadata_ptr)\n\u001b[0m\u001b[0;32m   1440\u001b[0m         \u001b[1;32mif\u001b[0m \u001b[0mrun_metadata\u001b[0m\u001b[1;33m:\u001b[0m\u001b[1;33m\u001b[0m\u001b[1;33m\u001b[0m\u001b[0m\n\u001b[0;32m   1441\u001b[0m           \u001b[0mproto_data\u001b[0m \u001b[1;33m=\u001b[0m \u001b[0mtf_session\u001b[0m\u001b[1;33m.\u001b[0m\u001b[0mTF_GetBuffer\u001b[0m\u001b[1;33m(\u001b[0m\u001b[0mrun_metadata_ptr\u001b[0m\u001b[1;33m)\u001b[0m\u001b[1;33m\u001b[0m\u001b[1;33m\u001b[0m\u001b[0m\n",
      "\u001b[1;31mKeyboardInterrupt\u001b[0m: "
     ]
    }
   ],
   "source": [
    "history_simple_test = simple_test.fit(X_train,y_train,epochs=300,batch_size=64,validation_data=(X_test,y_test))"
   ]
  },
  {
   "cell_type": "code",
   "execution_count": null,
   "metadata": {},
   "outputs": [],
   "source": []
  }
 ],
 "metadata": {
  "kernelspec": {
   "display_name": "TensorFlow-GPU",
   "language": "python",
   "name": "tf-gpu"
  },
  "language_info": {
   "codemirror_mode": {
    "name": "ipython",
    "version": 3
   },
   "file_extension": ".py",
   "mimetype": "text/x-python",
   "name": "python",
   "nbconvert_exporter": "python",
   "pygments_lexer": "ipython3",
   "version": "3.7.3"
  }
 },
 "nbformat": 4,
 "nbformat_minor": 2
}
